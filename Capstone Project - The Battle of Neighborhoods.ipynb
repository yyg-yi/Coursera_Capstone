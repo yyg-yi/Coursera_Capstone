{
 "cells": [
  {
   "cell_type": "markdown",
   "metadata": {},
   "source": [
    "**Capstone Project - The Battle of Neighborhoods**\n",
    "\n",
    "from **Yiyu Gan**"
   ]
  },
  {
   "cell_type": "markdown",
   "metadata": {},
   "source": [
    "# Introduction: Business Plan"
   ]
  },
  {
   "cell_type": "markdown",
   "metadata": {},
   "source": [
    "This project is mainly focused on the probelm of choosing a optimal location for a resaurant in Mahattan, New York. To be more specific, thsi report will be targeted to stakeholders interested in opening a Chinese resaurant in **Mahattan,New York**.\n",
    "\n",
    "There are lots of resaurants in Mahattan, but most of them have had a hard time since the impact of Covud-19. Some of them even had to close. So, we will try to dectec locations where the resaurant market is not so competitive. It will be better if we can find some place where are less Chinese resaurants. We also tend to choose locations near city centers, so that high traffic could help the resaurant attract more customers in the beginning and then survive during this pandamic."
   ]
  },
  {
   "cell_type": "markdown",
   "metadata": {},
   "source": [
    "# Data"
   ]
  },
  {
   "cell_type": "markdown",
   "metadata": {},
   "source": [
    "Based on the business plan we discussed above, key factors that we will pay attention to are:\n",
    "* number of exsiting resaurants in the neighborhood\n",
    "* number of Chinese resaurants in the neighborhood and the distance to them\n",
    "* distance of neighborhood from city center, such as Time Suqare\n",
    "\n",
    "In order to get above data information, we will utalized following reousrces:\n",
    "* resaurant information in every neighborhood from **Foursauqre location data**\n",
    "* neighborhood information and city center from **Google Maps API geocoding** \n",
    "\n",
    "Based on these obtained information, we could sovle our business probelm and recommend a optimal location for our stakeholders."
   ]
  },
  {
   "cell_type": "code",
   "execution_count": null,
   "metadata": {},
   "outputs": [],
   "source": []
  },
  {
   "cell_type": "code",
   "execution_count": null,
   "metadata": {},
   "outputs": [],
   "source": []
  }
 ],
 "metadata": {
  "kernelspec": {
   "display_name": "Python 3",
   "language": "python",
   "name": "python3"
  },
  "language_info": {
   "codemirror_mode": {
    "name": "ipython",
    "version": 3
   },
   "file_extension": ".py",
   "mimetype": "text/x-python",
   "name": "python",
   "nbconvert_exporter": "python",
   "pygments_lexer": "ipython3",
   "version": "3.8.5"
  },
  "toc": {
   "base_numbering": 1,
   "nav_menu": {},
   "number_sections": true,
   "sideBar": true,
   "skip_h1_title": false,
   "title_cell": "Table of Contents",
   "title_sidebar": "Contents",
   "toc_cell": false,
   "toc_position": {},
   "toc_section_display": true,
   "toc_window_display": false
  }
 },
 "nbformat": 4,
 "nbformat_minor": 4
}
